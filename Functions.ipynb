{
 "cells": [
  {
   "cell_type": "code",
   "execution_count": 1,
   "id": "08d48508",
   "metadata": {},
   "outputs": [],
   "source": [
    "def test_func():\n",
    "    print(\"Hello\")"
   ]
  },
  {
   "cell_type": "code",
   "execution_count": 2,
   "id": "b9918e1d",
   "metadata": {},
   "outputs": [
    {
     "name": "stdout",
     "output_type": "stream",
     "text": [
      "Hello\n"
     ]
    }
   ],
   "source": [
    "test_func()"
   ]
  },
  {
   "cell_type": "code",
   "execution_count": 3,
   "id": "e75e8e68",
   "metadata": {},
   "outputs": [],
   "source": [
    "def take_args(text):\n",
    "    print(text)"
   ]
  },
  {
   "cell_type": "code",
   "execution_count": 4,
   "id": "058fddd6",
   "metadata": {},
   "outputs": [
    {
     "name": "stdout",
     "output_type": "stream",
     "text": [
      "Hello\n"
     ]
    }
   ],
   "source": [
    "take_args(\"Hello\")"
   ]
  },
  {
   "cell_type": "code",
   "execution_count": 5,
   "id": "43e97230",
   "metadata": {},
   "outputs": [
    {
     "name": "stdout",
     "output_type": "stream",
     "text": [
      "Today is Friday\n"
     ]
    }
   ],
   "source": [
    "take_args(\"Today is Friday\")"
   ]
  },
  {
   "cell_type": "code",
   "execution_count": 6,
   "id": "b86936ea",
   "metadata": {},
   "outputs": [],
   "source": [
    "def getText(text):\n",
    "    print(text.upper())"
   ]
  },
  {
   "cell_type": "code",
   "execution_count": 7,
   "id": "26b8bd00",
   "metadata": {},
   "outputs": [
    {
     "name": "stdout",
     "output_type": "stream",
     "text": [
      "HOW ARE YOU?\n"
     ]
    }
   ],
   "source": [
    "getText(\"how are you?\")"
   ]
  },
  {
   "cell_type": "code",
   "execution_count": 8,
   "id": "4887d0f1",
   "metadata": {},
   "outputs": [],
   "source": [
    "def greetings(message):\n",
    "    return message"
   ]
  },
  {
   "cell_type": "code",
   "execution_count": 9,
   "id": "4dfcbf0c",
   "metadata": {},
   "outputs": [],
   "source": [
    "sms = greetings(\"Happy new year\")"
   ]
  },
  {
   "cell_type": "code",
   "execution_count": 10,
   "id": "08eaef32",
   "metadata": {},
   "outputs": [
    {
     "data": {
      "text/plain": [
       "'Happy new year'"
      ]
     },
     "execution_count": 10,
     "metadata": {},
     "output_type": "execute_result"
    }
   ],
   "source": [
    "sms"
   ]
  },
  {
   "cell_type": "code",
   "execution_count": 11,
   "id": "b3e6a7d5",
   "metadata": {},
   "outputs": [
    {
     "name": "stdout",
     "output_type": "stream",
     "text": [
      "HELLO\n"
     ]
    }
   ],
   "source": [
    "text = getText(\"Hello\")"
   ]
  },
  {
   "cell_type": "code",
   "execution_count": 12,
   "id": "52c06f01",
   "metadata": {},
   "outputs": [],
   "source": [
    "text"
   ]
  },
  {
   "cell_type": "code",
   "execution_count": 13,
   "id": "8cb852ef",
   "metadata": {},
   "outputs": [],
   "source": [
    "getsms = greetings"
   ]
  },
  {
   "cell_type": "code",
   "execution_count": 14,
   "id": "e811961c",
   "metadata": {},
   "outputs": [
    {
     "data": {
      "text/plain": [
       "'Message me again'"
      ]
     },
     "execution_count": 14,
     "metadata": {},
     "output_type": "execute_result"
    }
   ],
   "source": [
    "getsms(\"Message me again\")"
   ]
  },
  {
   "cell_type": "code",
   "execution_count": 19,
   "id": "1b345ce1",
   "metadata": {},
   "outputs": [],
   "source": [
    "def student_info(name, dept, sem):\n",
    "    return \"Name: \"+name+\" Dept: \"+dept+\" Semister: \"+sem"
   ]
  },
  {
   "cell_type": "code",
   "execution_count": 20,
   "id": "af3e725b",
   "metadata": {},
   "outputs": [
    {
     "data": {
      "text/plain": [
       "'Name: Tarik Dept: CSE Semister: 4th'"
      ]
     },
     "execution_count": 20,
     "metadata": {},
     "output_type": "execute_result"
    }
   ],
   "source": [
    "student_info(\"Tarik\", \"CSE\", \"4th\")"
   ]
  },
  {
   "cell_type": "code",
   "execution_count": 21,
   "id": "b2cc6e27",
   "metadata": {},
   "outputs": [],
   "source": [
    "def getNumber(number):\n",
    "    return number"
   ]
  },
  {
   "cell_type": "code",
   "execution_count": 22,
   "id": "68c8b6c6",
   "metadata": {},
   "outputs": [
    {
     "data": {
      "text/plain": [
       "21"
      ]
     },
     "execution_count": 22,
     "metadata": {},
     "output_type": "execute_result"
    }
   ],
   "source": [
    "getNumber(21)"
   ]
  },
  {
   "cell_type": "code",
   "execution_count": 23,
   "id": "5c64965c",
   "metadata": {},
   "outputs": [],
   "source": [
    "def getNumber(*number):\n",
    "    return number"
   ]
  },
  {
   "cell_type": "code",
   "execution_count": 24,
   "id": "879a5d21",
   "metadata": {},
   "outputs": [
    {
     "data": {
      "text/plain": [
       "(10, 20, 30)"
      ]
     },
     "execution_count": 24,
     "metadata": {},
     "output_type": "execute_result"
    }
   ],
   "source": [
    "getNumber(10, 20, 30)"
   ]
  },
  {
   "cell_type": "code",
   "execution_count": 25,
   "id": "84f6a64b",
   "metadata": {},
   "outputs": [],
   "source": [
    "def stu_info(**info):\n",
    "    return info"
   ]
  },
  {
   "cell_type": "code",
   "execution_count": 45,
   "id": "ae44036d",
   "metadata": {},
   "outputs": [
    {
     "data": {
      "text/plain": [
       "['Shohan', 'CSE', '4th', 'Dhaka']"
      ]
     },
     "execution_count": 45,
     "metadata": {},
     "output_type": "execute_result"
    }
   ],
   "source": [
    "stu_info(name=\"Shohan\", dept=\"CSE\", sem=\"4th\", address=\"Dhaka\")"
   ]
  },
  {
   "cell_type": "code",
   "execution_count": 44,
   "id": "7e95f881",
   "metadata": {},
   "outputs": [],
   "source": [
    "def stu_info(**info):\n",
    "    return list(info.values())\n",
    "           "
   ]
  },
  {
   "cell_type": "code",
   "execution_count": 46,
   "id": "2ea61ed8",
   "metadata": {},
   "outputs": [],
   "source": [
    "def speak(text):\n",
    "    def settext(t):\n",
    "        return t.lower()+\" ...\"\n",
    "    return settext(text)"
   ]
  },
  {
   "cell_type": "code",
   "execution_count": 48,
   "id": "1c4d22ac",
   "metadata": {},
   "outputs": [
    {
     "data": {
      "text/plain": [
       "'hello world ...'"
      ]
     },
     "execution_count": 48,
     "metadata": {},
     "output_type": "execute_result"
    }
   ],
   "source": [
    "speak(\"Hello world\")"
   ]
  },
  {
   "cell_type": "code",
   "execution_count": 49,
   "id": "7395b809",
   "metadata": {},
   "outputs": [
    {
     "ename": "NameError",
     "evalue": "name 'settext' is not defined",
     "output_type": "error",
     "traceback": [
      "\u001b[1;31m---------------------------------------------------------------------------\u001b[0m",
      "\u001b[1;31mNameError\u001b[0m                                 Traceback (most recent call last)",
      "\u001b[1;32m<ipython-input-49-7da4d8e87c65>\u001b[0m in \u001b[0;36m<module>\u001b[1;34m\u001b[0m\n\u001b[1;32m----> 1\u001b[1;33m \u001b[0msettext\u001b[0m\u001b[1;33m(\u001b[0m\u001b[1;34m\"Hello\"\u001b[0m\u001b[1;33m)\u001b[0m\u001b[1;33m\u001b[0m\u001b[1;33m\u001b[0m\u001b[0m\n\u001b[0m",
      "\u001b[1;31mNameError\u001b[0m: name 'settext' is not defined"
     ]
    }
   ],
   "source": [
    "settext(\"Hello\")"
   ]
  },
  {
   "cell_type": "code",
   "execution_count": 50,
   "id": "f94f7437",
   "metadata": {},
   "outputs": [],
   "source": [
    "def get_speak_func(vol):\n",
    "    \n",
    "    def whisper(text):\n",
    "        return text\n",
    "    \n",
    "    def yell(text):\n",
    "        return text\n",
    "    \n",
    "    if vol > 0.5:\n",
    "        return yell\n",
    "    else:\n",
    "        return whisper"
   ]
  },
  {
   "cell_type": "code",
   "execution_count": 51,
   "id": "9dad287c",
   "metadata": {},
   "outputs": [
    {
     "data": {
      "text/plain": [
       "<function __main__.get_speak_func.<locals>.whisper(text)>"
      ]
     },
     "execution_count": 51,
     "metadata": {},
     "output_type": "execute_result"
    }
   ],
   "source": [
    "get_speak_func(0.3)"
   ]
  },
  {
   "cell_type": "code",
   "execution_count": 52,
   "id": "f3d7a02e",
   "metadata": {},
   "outputs": [
    {
     "data": {
      "text/plain": [
       "'Hello Yell'"
      ]
     },
     "execution_count": 52,
     "metadata": {},
     "output_type": "execute_result"
    }
   ],
   "source": [
    "whisper = get_speak_func(0.3)\n",
    "whisper(\"Hello Yell\")"
   ]
  },
  {
   "cell_type": "code",
   "execution_count": 57,
   "id": "26c7cfab",
   "metadata": {},
   "outputs": [],
   "source": [
    "def get_radio_channel(freq):\n",
    "    \n",
    "    def radio_mirchi_100():\n",
    "        return \"Play indian song\"\n",
    "    \n",
    "    def radio_fm_95():\n",
    "        return \"Play Bangla song\"\n",
    "    \n",
    "    def radio_fm_85():\n",
    "        return \"Play bhoot fm\"\n",
    "    \n",
    "    if freq > 97 and freq < 105:\n",
    "        return radio_mirchi_100\n",
    "    elif freq > 87 and freq < 97:\n",
    "        return radio_fm_95\n",
    "    elif freq > 80 and freq < 87:\n",
    "        return radio_fm_85\n",
    "    else:\n",
    "        return \"No Channel detected\""
   ]
  },
  {
   "cell_type": "code",
   "execution_count": 58,
   "id": "73d96069",
   "metadata": {},
   "outputs": [
    {
     "data": {
      "text/plain": [
       "<function __main__.get_radio_channel.<locals>.radio_fm_85()>"
      ]
     },
     "execution_count": 58,
     "metadata": {},
     "output_type": "execute_result"
    }
   ],
   "source": [
    "get_radio_channel(84)"
   ]
  },
  {
   "cell_type": "code",
   "execution_count": 63,
   "id": "b66cc5a3",
   "metadata": {},
   "outputs": [
    {
     "data": {
      "text/plain": [
       "'Play Bangla song'"
      ]
     },
     "execution_count": 63,
     "metadata": {},
     "output_type": "execute_result"
    }
   ],
   "source": [
    "myplaylist = get_radio_channel(90)\n",
    "myplaylist()"
   ]
  },
  {
   "cell_type": "markdown",
   "id": "f5aef0e5",
   "metadata": {},
   "source": [
    "# Lambda function"
   ]
  },
  {
   "cell_type": "code",
   "execution_count": 64,
   "id": "bf047f6c",
   "metadata": {},
   "outputs": [],
   "source": [
    "getnumber = lambda x: x"
   ]
  },
  {
   "cell_type": "code",
   "execution_count": 65,
   "id": "ee86b65c",
   "metadata": {},
   "outputs": [
    {
     "data": {
      "text/plain": [
       "100"
      ]
     },
     "execution_count": 65,
     "metadata": {},
     "output_type": "execute_result"
    }
   ],
   "source": [
    "getnumber(100)"
   ]
  },
  {
   "cell_type": "code",
   "execution_count": 66,
   "id": "93aa7c0d",
   "metadata": {},
   "outputs": [],
   "source": [
    "add = lambda x: x+x"
   ]
  },
  {
   "cell_type": "code",
   "execution_count": 67,
   "id": "c82416a1",
   "metadata": {},
   "outputs": [
    {
     "data": {
      "text/plain": [
       "20"
      ]
     },
     "execution_count": 67,
     "metadata": {},
     "output_type": "execute_result"
    }
   ],
   "source": [
    "add(10)"
   ]
  },
  {
   "cell_type": "code",
   "execution_count": 68,
   "id": "95c26cfd",
   "metadata": {},
   "outputs": [],
   "source": [
    "add = lambda x, y: x+y"
   ]
  },
  {
   "cell_type": "code",
   "execution_count": 69,
   "id": "d9c0739f",
   "metadata": {},
   "outputs": [
    {
     "data": {
      "text/plain": [
       "330"
      ]
     },
     "execution_count": 69,
     "metadata": {},
     "output_type": "execute_result"
    }
   ],
   "source": [
    "add(10, 320)"
   ]
  },
  {
   "cell_type": "code",
   "execution_count": 70,
   "id": "9d3d7a92",
   "metadata": {},
   "outputs": [],
   "source": [
    "logic = lambda x, y: x+y if x == 100 else y-x"
   ]
  },
  {
   "cell_type": "code",
   "execution_count": 71,
   "id": "a569257f",
   "metadata": {},
   "outputs": [
    {
     "data": {
      "text/plain": [
       "300"
      ]
     },
     "execution_count": 71,
     "metadata": {},
     "output_type": "execute_result"
    }
   ],
   "source": [
    "logic(100, 200)"
   ]
  },
  {
   "cell_type": "code",
   "execution_count": 72,
   "id": "2d40bc8b",
   "metadata": {},
   "outputs": [
    {
     "data": {
      "text/plain": [
       "190"
      ]
     },
     "execution_count": 72,
     "metadata": {},
     "output_type": "execute_result"
    }
   ],
   "source": [
    "logic(10, 200)"
   ]
  },
  {
   "cell_type": "code",
   "execution_count": 74,
   "id": "dd133a35",
   "metadata": {},
   "outputs": [],
   "source": [
    "t = [(1, 'd'), (2, 'b'), (4, 'a'), (3, 'c')]"
   ]
  },
  {
   "cell_type": "code",
   "execution_count": 75,
   "id": "8e8f0ba9",
   "metadata": {},
   "outputs": [
    {
     "data": {
      "text/plain": [
       "[(4, 'a'), (2, 'b'), (3, 'c'), (1, 'd')]"
      ]
     },
     "execution_count": 75,
     "metadata": {},
     "output_type": "execute_result"
    }
   ],
   "source": [
    "sorted(t, key=lambda x:x[1])"
   ]
  },
  {
   "cell_type": "code",
   "execution_count": 76,
   "id": "e261922b",
   "metadata": {},
   "outputs": [
    {
     "data": {
      "text/plain": [
       "[0, -1, 1, -2, 2, -3, 3, -4, 4, -5, 5]"
      ]
     },
     "execution_count": 76,
     "metadata": {},
     "output_type": "execute_result"
    }
   ],
   "source": [
    "sorted(range(-5, 6), key=lambda x: x*x)"
   ]
  },
  {
   "cell_type": "code",
   "execution_count": 77,
   "id": "6498a7f3",
   "metadata": {},
   "outputs": [],
   "source": [
    "def adding(number):\n",
    "    return lambda x: x+number"
   ]
  },
  {
   "cell_type": "code",
   "execution_count": 78,
   "id": "00219469",
   "metadata": {},
   "outputs": [],
   "source": [
    "n3 = adding(10)"
   ]
  },
  {
   "cell_type": "code",
   "execution_count": 79,
   "id": "abcc5f9c",
   "metadata": {},
   "outputs": [
    {
     "data": {
      "text/plain": [
       "13"
      ]
     },
     "execution_count": 79,
     "metadata": {},
     "output_type": "execute_result"
    }
   ],
   "source": [
    "n3(3)"
   ]
  },
  {
   "cell_type": "code",
   "execution_count": 80,
   "id": "2d0e18dd",
   "metadata": {},
   "outputs": [],
   "source": [
    "# build in functions\n",
    "# range, map, filter, "
   ]
  },
  {
   "cell_type": "code",
   "execution_count": 81,
   "id": "37613e0f",
   "metadata": {},
   "outputs": [
    {
     "name": "stdout",
     "output_type": "stream",
     "text": [
      "2\n",
      "3\n",
      "4\n",
      "5\n",
      "6\n",
      "7\n",
      "8\n",
      "9\n"
     ]
    }
   ],
   "source": [
    "for i in range(2, 10):\n",
    "    print(i)"
   ]
  },
  {
   "cell_type": "code",
   "execution_count": 82,
   "id": "4b2f4c39",
   "metadata": {},
   "outputs": [
    {
     "data": {
      "text/plain": [
       "range(1, 10)"
      ]
     },
     "execution_count": 82,
     "metadata": {},
     "output_type": "execute_result"
    }
   ],
   "source": [
    "range(1, 10)"
   ]
  },
  {
   "cell_type": "code",
   "execution_count": 83,
   "id": "cdf456f1",
   "metadata": {},
   "outputs": [
    {
     "data": {
      "text/plain": [
       "[0, 1, 2, 3, 4, 5, 6, 7, 8, 9]"
      ]
     },
     "execution_count": 83,
     "metadata": {},
     "output_type": "execute_result"
    }
   ],
   "source": [
    "list(range(10))"
   ]
  },
  {
   "cell_type": "code",
   "execution_count": 84,
   "id": "89fa99af",
   "metadata": {},
   "outputs": [
    {
     "data": {
      "text/plain": [
       "['apple', 'orange', 'banana']"
      ]
     },
     "execution_count": 84,
     "metadata": {},
     "output_type": "execute_result"
    }
   ],
   "source": [
    "list(map(lambda x:x, ['apple', 'orange', 'banana']))"
   ]
  },
  {
   "cell_type": "code",
   "execution_count": 89,
   "id": "7d84be4f",
   "metadata": {},
   "outputs": [],
   "source": [
    "concat_fruits = map(lambda x, y: x+y, ['apple ', 'orange ', 'banana '], ['graps', 'pineapple', 'dates'])"
   ]
  },
  {
   "cell_type": "code",
   "execution_count": 90,
   "id": "47305d6f",
   "metadata": {},
   "outputs": [
    {
     "data": {
      "text/plain": [
       "['apple graps', 'orange pineapple', 'banana dates']"
      ]
     },
     "execution_count": 90,
     "metadata": {},
     "output_type": "execute_result"
    }
   ],
   "source": [
    "list(concat_fruits)"
   ]
  },
  {
   "cell_type": "code",
   "execution_count": 92,
   "id": "f0dfc84b",
   "metadata": {},
   "outputs": [
    {
     "ename": "SyntaxError",
     "evalue": "invalid syntax (<ipython-input-92-d1a40d54fcfc>, line 4)",
     "output_type": "error",
     "traceback": [
      "\u001b[1;36m  File \u001b[1;32m\"<ipython-input-92-d1a40d54fcfc>\"\u001b[1;36m, line \u001b[1;32m4\u001b[0m\n\u001b[1;33m    list(filter(lambda x: x if x in vowel, char))\u001b[0m\n\u001b[1;37m                                         ^\u001b[0m\n\u001b[1;31mSyntaxError\u001b[0m\u001b[1;31m:\u001b[0m invalid syntax\n"
     ]
    }
   ],
   "source": [
    "vowel = ['a', 'e', 'i', 'o', 'u']\n",
    "char = ['a', 'f', 'e', 'h', 'i', 'l', 'o', 'u']\n",
    "\n",
    "list(filter(lambda x: x if x in vowel, char))"
   ]
  },
  {
   "cell_type": "code",
   "execution_count": 99,
   "id": "3be3e0e0",
   "metadata": {},
   "outputs": [
    {
     "data": {
      "text/plain": [
       "['a', 'e', 'i']"
      ]
     },
     "execution_count": 99,
     "metadata": {},
     "output_type": "execute_result"
    }
   ],
   "source": [
    "char = ['a', 'f', 'e', 'h', 'i', 'l']\n",
    "def getV(v):\n",
    "    vowel = ['a', 'e', 'i', 'o', 'u']\n",
    "    if v in vowel:\n",
    "        return True\n",
    "    else:\n",
    "        return False\n",
    "list(filter(getV, char))"
   ]
  },
  {
   "cell_type": "code",
   "execution_count": null,
   "id": "e48b6c62",
   "metadata": {},
   "outputs": [],
   "source": []
  }
 ],
 "metadata": {
  "kernelspec": {
   "display_name": "Python 3",
   "language": "python",
   "name": "python3"
  },
  "language_info": {
   "codemirror_mode": {
    "name": "ipython",
    "version": 3
   },
   "file_extension": ".py",
   "mimetype": "text/x-python",
   "name": "python",
   "nbconvert_exporter": "python",
   "pygments_lexer": "ipython3",
   "version": "3.8.8"
  }
 },
 "nbformat": 4,
 "nbformat_minor": 5
}
