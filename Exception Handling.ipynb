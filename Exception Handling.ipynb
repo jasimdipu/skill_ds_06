{
 "cells": [
  {
   "cell_type": "code",
   "execution_count": 1,
   "id": "e794b2fc",
   "metadata": {},
   "outputs": [
    {
     "data": {
      "text/plain": [
       "10.0"
      ]
     },
     "execution_count": 1,
     "metadata": {},
     "output_type": "execute_result"
    }
   ],
   "source": [
    "100/10"
   ]
  },
  {
   "cell_type": "code",
   "execution_count": 7,
   "id": "c4e3ffb8",
   "metadata": {},
   "outputs": [
    {
     "name": "stdout",
     "output_type": "stream",
     "text": [
      "division by zero\n"
     ]
    }
   ],
   "source": [
    "try:\n",
    "    print(100/0)    \n",
    "except ZeroDivisionError as e:\n",
    "    print(e)"
   ]
  },
  {
   "cell_type": "code",
   "execution_count": 8,
   "id": "15d03836",
   "metadata": {},
   "outputs": [
    {
     "data": {
      "text/plain": [
       "20.0"
      ]
     },
     "execution_count": 8,
     "metadata": {},
     "output_type": "execute_result"
    }
   ],
   "source": [
    "100/5"
   ]
  },
  {
   "cell_type": "code",
   "execution_count": 12,
   "id": "83e303dd",
   "metadata": {},
   "outputs": [
    {
     "name": "stdout",
     "output_type": "stream",
     "text": [
      "0\n",
      "division by zero\n"
     ]
    }
   ],
   "source": [
    "try:\n",
    "    num = int(input())\n",
    "    print(100/num)\n",
    "except ZeroDivisionError as e:\n",
    "    print(e)\n",
    "except TypeError as e:\n",
    "    print(e)\n",
    "except ValueError as e:\n",
    "    print(e)\n",
    "except Exception as e:\n",
    "    print(e)"
   ]
  },
  {
   "cell_type": "code",
   "execution_count": 13,
   "id": "e9522d78",
   "metadata": {},
   "outputs": [],
   "source": [
    "# custom exception\n",
    "class MinValueException(Exception):\n",
    "    pass\n",
    "class MaxValueException(Exception):\n",
    "    pass"
   ]
  },
  {
   "cell_type": "code",
   "execution_count": 15,
   "id": "4bae100d",
   "metadata": {},
   "outputs": [
    {
     "name": "stdout",
     "output_type": "stream",
     "text": [
      "10050\n",
      " Number has to be smaller then 1000\n"
     ]
    }
   ],
   "source": [
    "try:\n",
    "    number = int(input())\n",
    "    if number < 100:\n",
    "        raise MinValueException\n",
    "    if number > 1000:\n",
    "        raise MaxValueException\n",
    "    print(10000+number)\n",
    "except MinValueException as e:\n",
    "    print(e, \"Number has to be bigger then 100\")\n",
    "except MaxValueException as e:\n",
    "    print(e, \"Number has to be smaller then 1000\")\n",
    "except Exception as e:\n",
    "    print(e)"
   ]
  },
  {
   "cell_type": "code",
   "execution_count": 3,
   "id": "ee718288",
   "metadata": {},
   "outputs": [],
   "source": [
    "def file_handeling(file_name, mode=\"a\", text=\"\"):\n",
    "    try:\n",
    "        if mode == \"a\":\n",
    "            file = open(file_name, mode)\n",
    "            file.write(text)\n",
    "            file.close()\n",
    "        elif mode=='r':\n",
    "            file = open(file_name, mode)\n",
    "            print(file.readlines())\n",
    "            file.close()\n",
    "        else:\n",
    "            return \"Please enter an valid \n",
    "    except Exception as e:\n",
    "        print(e)"
   ]
  },
  {
   "cell_type": "code",
   "execution_count": 4,
   "id": "81bf2cc9",
   "metadata": {},
   "outputs": [
    {
     "name": "stdout",
     "output_type": "stream",
     "text": [
      "['We are testing the file system. We are testing again the file system.']\n"
     ]
    }
   ],
   "source": [
    "file_handeling(\"test.txt\", \"r\")"
   ]
  },
  {
   "cell_type": "code",
   "execution_count": 5,
   "id": "9944b23e",
   "metadata": {},
   "outputs": [],
   "source": [
    "file_handeling(\"test2.txt\", \"a\", \"We are data science community\")"
   ]
  },
  {
   "cell_type": "code",
   "execution_count": 6,
   "id": "1c7234ea",
   "metadata": {},
   "outputs": [
    {
     "name": "stdout",
     "output_type": "stream",
     "text": [
      "['We are data science community']\n"
     ]
    }
   ],
   "source": [
    "file_handeling(\"test2.txt\", \"r\")"
   ]
  },
  {
   "cell_type": "code",
   "execution_count": 7,
   "id": "02b5a92e",
   "metadata": {},
   "outputs": [
    {
     "name": "stdout",
     "output_type": "stream",
     "text": [
      "['We are data science community. Happy to learn data science']\n"
     ]
    }
   ],
   "source": [
    "file_handeling(\"test2.txt\", \"a\", \". Happy to learn data science\")\n",
    "file_handeling(\"test2.txt\", \"r\")"
   ]
  },
  {
   "cell_type": "code",
   "execution_count": null,
   "id": "e5040287",
   "metadata": {},
   "outputs": [],
   "source": []
  }
 ],
 "metadata": {
  "kernelspec": {
   "display_name": "Python 3",
   "language": "python",
   "name": "python3"
  },
  "language_info": {
   "codemirror_mode": {
    "name": "ipython",
    "version": 3
   },
   "file_extension": ".py",
   "mimetype": "text/x-python",
   "name": "python",
   "nbconvert_exporter": "python",
   "pygments_lexer": "ipython3",
   "version": "3.8.8"
  }
 },
 "nbformat": 4,
 "nbformat_minor": 5
}
