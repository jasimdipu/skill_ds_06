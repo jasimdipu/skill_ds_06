{
 "cells": [
  {
   "cell_type": "code",
   "execution_count": 1,
   "id": "052e582c",
   "metadata": {},
   "outputs": [],
   "source": [
    "def test_func():\n",
    "    print(\"Hello\")"
   ]
  },
  {
   "cell_type": "code",
   "execution_count": 2,
   "id": "f7d63d1d",
   "metadata": {},
   "outputs": [
    {
     "name": "stdout",
     "output_type": "stream",
     "text": [
      "Hello\n"
     ]
    }
   ],
   "source": [
    "test_func()"
   ]
  },
  {
   "cell_type": "code",
   "execution_count": 3,
   "id": "272437b9",
   "metadata": {},
   "outputs": [],
   "source": [
    "def take_args(text):\n",
    "    print(text)"
   ]
  },
  {
   "cell_type": "code",
   "execution_count": 4,
   "id": "2a49c73a",
   "metadata": {},
   "outputs": [
    {
     "name": "stdout",
     "output_type": "stream",
     "text": [
      "Hello\n"
     ]
    }
   ],
   "source": [
    "take_args(\"Hello\")"
   ]
  },
  {
   "cell_type": "code",
   "execution_count": 5,
   "id": "f290e376",
   "metadata": {},
   "outputs": [
    {
     "name": "stdout",
     "output_type": "stream",
     "text": [
      "Today is Friday\n"
     ]
    }
   ],
   "source": [
    "take_args(\"Today is Friday\")"
   ]
  },
  {
   "cell_type": "code",
   "execution_count": 6,
   "id": "2f496edd",
   "metadata": {},
   "outputs": [],
   "source": [
    "def getText(text):\n",
    "    print(text.upper())"
   ]
  },
  {
   "cell_type": "code",
   "execution_count": 7,
   "id": "fc08f919",
   "metadata": {},
   "outputs": [
    {
     "name": "stdout",
     "output_type": "stream",
     "text": [
      "HOW ARE YOU?\n"
     ]
    }
   ],
   "source": [
    "getText(\"how are you?\")"
   ]
  },
  {
   "cell_type": "code",
   "execution_count": 8,
   "id": "a4c5ce79",
   "metadata": {},
   "outputs": [],
   "source": [
    "def greetings(message):\n",
    "    return message"
   ]
  },
  {
   "cell_type": "code",
   "execution_count": 9,
   "id": "a71d5b0c",
   "metadata": {},
   "outputs": [],
   "source": [
    "sms = greetings(\"Happy new year\")"
   ]
  },
  {
   "cell_type": "code",
   "execution_count": 10,
   "id": "97c3101c",
   "metadata": {},
   "outputs": [
    {
     "data": {
      "text/plain": [
       "'Happy new year'"
      ]
     },
     "execution_count": 10,
     "metadata": {},
     "output_type": "execute_result"
    }
   ],
   "source": [
    "sms"
   ]
  },
  {
   "cell_type": "code",
   "execution_count": 11,
   "id": "44b92753",
   "metadata": {},
   "outputs": [
    {
     "name": "stdout",
     "output_type": "stream",
     "text": [
      "HELLO\n"
     ]
    }
   ],
   "source": [
    "text = getText(\"Hello\")"
   ]
  },
  {
   "cell_type": "code",
   "execution_count": 12,
   "id": "7639a42e",
   "metadata": {},
   "outputs": [],
   "source": [
    "text"
   ]
  },
  {
   "cell_type": "code",
   "execution_count": 13,
   "id": "57eec509",
   "metadata": {},
   "outputs": [],
   "source": [
    "getsms = greetings"
   ]
  },
  {
   "cell_type": "code",
   "execution_count": 14,
   "id": "257fdd3f",
   "metadata": {},
   "outputs": [
    {
     "data": {
      "text/plain": [
       "'Message me again'"
      ]
     },
     "execution_count": 14,
     "metadata": {},
     "output_type": "execute_result"
    }
   ],
   "source": [
    "getsms(\"Message me again\")"
   ]
  },
  {
   "cell_type": "code",
   "execution_count": 19,
   "id": "62b2382e",
   "metadata": {},
   "outputs": [],
   "source": [
    "def student_info(name, dept, sem):\n",
    "    return \"Name: \"+name+\" Dept: \"+dept+\" Semister: \"+sem"
   ]
  },
  {
   "cell_type": "code",
   "execution_count": 20,
   "id": "430e44e6",
   "metadata": {},
   "outputs": [
    {
     "data": {
      "text/plain": [
       "'Name: Tarik Dept: CSE Semister: 4th'"
      ]
     },
     "execution_count": 20,
     "metadata": {},
     "output_type": "execute_result"
    }
   ],
   "source": [
    "student_info(\"Tarik\", \"CSE\", \"4th\")"
   ]
  },
  {
   "cell_type": "code",
   "execution_count": 21,
   "id": "d71bedce",
   "metadata": {},
   "outputs": [],
   "source": [
    "def getNumber(number):\n",
    "    return number"
   ]
  },
  {
   "cell_type": "code",
   "execution_count": 22,
   "id": "bbcaeae5",
   "metadata": {},
   "outputs": [
    {
     "data": {
      "text/plain": [
       "21"
      ]
     },
     "execution_count": 22,
     "metadata": {},
     "output_type": "execute_result"
    }
   ],
   "source": [
    "getNumber(21)"
   ]
  },
  {
   "cell_type": "code",
   "execution_count": 23,
   "id": "12856058",
   "metadata": {},
   "outputs": [],
   "source": [
    "def getNumber(*number):\n",
    "    return number"
   ]
  },
  {
   "cell_type": "code",
   "execution_count": 24,
   "id": "e92f7420",
   "metadata": {},
   "outputs": [
    {
     "data": {
      "text/plain": [
       "(10, 20, 30)"
      ]
     },
     "execution_count": 24,
     "metadata": {},
     "output_type": "execute_result"
    }
   ],
   "source": [
    "getNumber(10, 20, 30)"
   ]
  },
  {
   "cell_type": "code",
   "execution_count": 25,
   "id": "fa25a048",
   "metadata": {},
   "outputs": [],
   "source": [
    "def stu_info(**info):\n",
    "    return info"
   ]
  },
  {
   "cell_type": "code",
   "execution_count": 32,
   "id": "89c51f5f",
   "metadata": {},
   "outputs": [
    {
     "data": {
      "text/plain": [
       "'S'"
      ]
     },
     "execution_count": 32,
     "metadata": {},
     "output_type": "execute_result"
    }
   ],
   "source": [
    "stu_info(name=\"Shohan\", dept=\"CSE\", sem=\"4th\", address=\"Dhaka\")"
   ]
  },
  {
   "cell_type": "code",
   "execution_count": 31,
   "id": "8f5ccd57",
   "metadata": {},
   "outputs": [],
   "source": [
    "def stu_info(**info):\n",
    "    for key, value in info.items():\n",
    "        return value:\n",
    "           "
   ]
  },
  {
   "cell_type": "code",
   "execution_count": null,
   "id": "4fd52668",
   "metadata": {},
   "outputs": [],
   "source": []
  }
 ],
 "metadata": {
  "kernelspec": {
   "display_name": "Python 3",
   "language": "python",
   "name": "python3"
  },
  "language_info": {
   "codemirror_mode": {
    "name": "ipython",
    "version": 3
   },
   "file_extension": ".py",
   "mimetype": "text/x-python",
   "name": "python",
   "nbconvert_exporter": "python",
   "pygments_lexer": "ipython3",
   "version": "3.8.8"
  }
 },
 "nbformat": 4,
 "nbformat_minor": 5
}
