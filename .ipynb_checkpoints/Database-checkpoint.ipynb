{
 "cells": [
  {
   "cell_type": "code",
   "execution_count": 2,
   "id": "72913096",
   "metadata": {},
   "outputs": [],
   "source": [
    "# !pip install mysql-python"
   ]
  },
  {
   "cell_type": "code",
   "execution_count": 3,
   "id": "7ca30494",
   "metadata": {},
   "outputs": [],
   "source": [
    "import mysql.connector as conn"
   ]
  },
  {
   "cell_type": "code",
   "execution_count": 5,
   "id": "c54b9476",
   "metadata": {},
   "outputs": [
    {
     "data": {
      "text/plain": [
       "<mysql.connector.connection.MySQLConnection at 0x1d04168a280>"
      ]
     },
     "execution_count": 5,
     "metadata": {},
     "output_type": "execute_result"
    }
   ],
   "source": [
    "db = conn.connect(host='localhost', user='root', password=\"\")\n",
    "db"
   ]
  },
  {
   "cell_type": "code",
   "execution_count": 6,
   "id": "5ea0704a",
   "metadata": {},
   "outputs": [],
   "source": [
    "db.close()"
   ]
  },
  {
   "cell_type": "code",
   "execution_count": 23,
   "id": "ee023546",
   "metadata": {},
   "outputs": [],
   "source": [
    "def create_db_conn(host='localhost', user='root', password=\"\", db_name=\"\"):\n",
    "    try:\n",
    "        if db_name != \"\":\n",
    "            db = conn.connect(host=host, user=user, password=password, database=db_name)\n",
    "            return db \n",
    "        else:\n",
    "            db = conn.connect(host=host, user=user, password=password)\n",
    "            return db\n",
    "    except Exception as e:\n",
    "        print(e)"
   ]
  },
  {
   "cell_type": "code",
   "execution_count": 27,
   "id": "7c731288",
   "metadata": {},
   "outputs": [],
   "source": [
    "def create_db(db_name):\n",
    "    try:\n",
    "        conn = create_db_conn()\n",
    "        cursor = conn.cursor()\n",
    "        sql = \"CREATE DATABASE {}\".format(db_name)\n",
    "        cursor.execute(sql)\n",
    "        cursor.close()\n",
    "        conn.close()\n",
    "    except Exception as e:\n",
    "        print(e)"
   ]
  },
  {
   "cell_type": "code",
   "execution_count": 42,
   "id": "38875ffd",
   "metadata": {},
   "outputs": [],
   "source": [
    "def create_table(db_name, table_name):\n",
    "    try:\n",
    "        conn = create_db_conn(db_name=db_name)\n",
    "        cursor = conn.cursor()\n",
    "        sql = \"CREATE TABLE {}(id integer primary key auto_increment, name varchar(255), dept varchar(255))\".format(table_name)\n",
    "        cursor.execute(sql)\n",
    "        cursor.close()\n",
    "        conn.close()\n",
    "    except Exception as e:\n",
    "        print(e)"
   ]
  },
  {
   "cell_type": "code",
   "execution_count": 40,
   "id": "31c30bfb",
   "metadata": {},
   "outputs": [],
   "source": [
    "def insert_data_into_table(db_name, table_name, stu_id, name, dept):\n",
    "    try:\n",
    "        conn = create_db_conn(db_name=db_name)\n",
    "        cursor = conn.cursor()\n",
    "        sql = \"INSERT INTO {}(id, name, dept) VALUES(%s, %s, %s)\".format(table_name)\n",
    "        values = (stu_id, name, dept)\n",
    "        cursor.execute(sql, values)\n",
    "        conn.commit()\n",
    "        cursor.close()\n",
    "        conn.close()\n",
    "    except Exception as e:\n",
    "        print(e)"
   ]
  },
  {
   "cell_type": "code",
   "execution_count": 43,
   "id": "409fec02",
   "metadata": {},
   "outputs": [
    {
     "name": "stdout",
     "output_type": "stream",
     "text": [
      "1007 (HY000): Can't create database 'student'; database exists\n"
     ]
    }
   ],
   "source": [
    "create_db(\"student\")\n",
    "create_table(\"student\", \"stu_info\")\n",
    "insert_data_into_table(\"student\", \"stu_info\", \"0\", \"Abu Jafor\", \"CSE\")"
   ]
  },
  {
   "cell_type": "code",
   "execution_count": null,
   "id": "04813d5a",
   "metadata": {},
   "outputs": [],
   "source": [
    "def fetch_data_from_table(db_name, table_name):\n",
    "    try:\n",
    "        conn = create_db_conn(db_name=db_name)\n",
    "        cursor = conn.cursor()\n",
    "        sql = \"SELECT * FROM \".format(table_name)\n",
    "        values = (stu_id, name, dept)\n",
    "        cursor.execute(sql, values)\n",
    "        conn.commit()\n",
    "        cursor.close()\n",
    "        conn.close()\n",
    "    except Exception as e:\n",
    "        print(e)"
   ]
  }
 ],
 "metadata": {
  "kernelspec": {
   "display_name": "Python 3",
   "language": "python",
   "name": "python3"
  },
  "language_info": {
   "codemirror_mode": {
    "name": "ipython",
    "version": 3
   },
   "file_extension": ".py",
   "mimetype": "text/x-python",
   "name": "python",
   "nbconvert_exporter": "python",
   "pygments_lexer": "ipython3",
   "version": "3.8.8"
  }
 },
 "nbformat": 4,
 "nbformat_minor": 5
}
