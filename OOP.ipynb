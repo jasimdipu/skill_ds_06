{
 "cells": [
  {
   "cell_type": "code",
   "execution_count": 38,
   "id": "3e1dce30",
   "metadata": {},
   "outputs": [],
   "source": [
    "class Student:\n",
    "    # attr->variable, functions\n",
    "    # global variable / global attr / instance\n",
    "    stu_name = \"\"\n",
    "    stu_dept = \"\"\n",
    "    \n",
    "    # constructor\n",
    "    def __init__(self, name, dept):\n",
    "        self.stu_name = name\n",
    "        self.stu_dept = dept\n",
    "        \n",
    "    def getName(self):\n",
    "        return self.stu_name\n",
    "    \n",
    "    def setName(self, name):\n",
    "        self.stu_name = name\n",
    "        \n",
    "    def getStuCredit(self):\n",
    "        def define_credit():\n",
    "            credit = 20\n",
    "            return credit\n",
    "        return define_credit()\n",
    "    \n",
    "    def getinfo(self):\n",
    "        return self.getName()+\" \"+str(self.getStuCredit())\n",
    "        \n",
    "    def __str__(self):\n",
    "        return self.stu_name+\" \"+self.stu_dept"
   ]
  },
  {
   "cell_type": "code",
   "execution_count": 35,
   "id": "05af5242",
   "metadata": {},
   "outputs": [],
   "source": [
    "student = Student(\"Tamim\", \"CSE\")"
   ]
  },
  {
   "cell_type": "code",
   "execution_count": 36,
   "id": "8be9d545",
   "metadata": {},
   "outputs": [
    {
     "data": {
      "text/plain": [
       "('Tamim', 'CSE')"
      ]
     },
     "execution_count": 36,
     "metadata": {},
     "output_type": "execute_result"
    }
   ],
   "source": [
    "student.stu_name, student.stu_dept"
   ]
  },
  {
   "cell_type": "code",
   "execution_count": 11,
   "id": "98122a28",
   "metadata": {},
   "outputs": [
    {
     "name": "stdout",
     "output_type": "stream",
     "text": [
      "Tamim CSE\n"
     ]
    }
   ],
   "source": [
    "print(student)"
   ]
  },
  {
   "cell_type": "code",
   "execution_count": 15,
   "id": "3574519c",
   "metadata": {},
   "outputs": [
    {
     "data": {
      "text/plain": [
       "'Tamim'"
      ]
     },
     "execution_count": 15,
     "metadata": {},
     "output_type": "execute_result"
    }
   ],
   "source": [
    "student.getName()"
   ]
  },
  {
   "cell_type": "code",
   "execution_count": 18,
   "id": "62ec56bd",
   "metadata": {},
   "outputs": [],
   "source": [
    "student.setName(\"Akram\")                    "
   ]
  },
  {
   "cell_type": "code",
   "execution_count": 19,
   "id": "87a9f29a",
   "metadata": {},
   "outputs": [
    {
     "data": {
      "text/plain": [
       "'Akram'"
      ]
     },
     "execution_count": 19,
     "metadata": {},
     "output_type": "execute_result"
    }
   ],
   "source": [
    "student.getName()"
   ]
  },
  {
   "cell_type": "code",
   "execution_count": 20,
   "id": "2533e885",
   "metadata": {},
   "outputs": [],
   "source": [
    "student.stu_dept = 'IT'"
   ]
  },
  {
   "cell_type": "code",
   "execution_count": 21,
   "id": "7c098130",
   "metadata": {},
   "outputs": [
    {
     "data": {
      "text/plain": [
       "'IT'"
      ]
     },
     "execution_count": 21,
     "metadata": {},
     "output_type": "execute_result"
    }
   ],
   "source": [
    "student.stu_dept"
   ]
  },
  {
   "cell_type": "code",
   "execution_count": 27,
   "id": "f0d40385",
   "metadata": {},
   "outputs": [
    {
     "data": {
      "text/plain": [
       "20"
      ]
     },
     "execution_count": 27,
     "metadata": {},
     "output_type": "execute_result"
    }
   ],
   "source": [
    "student.getStuCredit()"
   ]
  },
  {
   "cell_type": "code",
   "execution_count": 37,
   "id": "41ab6777",
   "metadata": {},
   "outputs": [
    {
     "data": {
      "text/plain": [
       "'Tamim 20'"
      ]
     },
     "execution_count": 37,
     "metadata": {},
     "output_type": "execute_result"
    }
   ],
   "source": [
    "student.getinfo()"
   ]
  },
  {
   "cell_type": "code",
   "execution_count": 3,
   "id": "ba1d27a9",
   "metadata": {},
   "outputs": [
    {
     "data": {
      "text/plain": [
       "1619524890880"
      ]
     },
     "execution_count": 3,
     "metadata": {},
     "output_type": "execute_result"
    }
   ],
   "source": [
    "id(student)"
   ]
  },
  {
   "cell_type": "code",
   "execution_count": 4,
   "id": "5dad5147",
   "metadata": {},
   "outputs": [
    {
     "data": {
      "text/plain": [
       "__main__.Student"
      ]
     },
     "execution_count": 4,
     "metadata": {},
     "output_type": "execute_result"
    }
   ],
   "source": [
    "type(student)"
   ]
  },
  {
   "cell_type": "code",
   "execution_count": null,
   "id": "b71804ad",
   "metadata": {},
   "outputs": [],
   "source": []
  }
 ],
 "metadata": {
  "kernelspec": {
   "display_name": "Python 3",
   "language": "python",
   "name": "python3"
  },
  "language_info": {
   "codemirror_mode": {
    "name": "ipython",
    "version": 3
   },
   "file_extension": ".py",
   "mimetype": "text/x-python",
   "name": "python",
   "nbconvert_exporter": "python",
   "pygments_lexer": "ipython3",
   "version": "3.8.8"
  }
 },
 "nbformat": 4,
 "nbformat_minor": 5
}
