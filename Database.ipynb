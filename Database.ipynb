{
 "cells": [
  {
   "cell_type": "code",
   "execution_count": 2,
   "id": "d1347d9f",
   "metadata": {},
   "outputs": [],
   "source": [
    "# !pip install mysql-python"
   ]
  },
  {
   "cell_type": "code",
   "execution_count": 3,
   "id": "c9efe22e",
   "metadata": {},
   "outputs": [],
   "source": [
    "import mysql.connector as conn"
   ]
  },
  {
   "cell_type": "code",
   "execution_count": 5,
   "id": "2c556c11",
   "metadata": {},
   "outputs": [
    {
     "data": {
      "text/plain": [
       "<mysql.connector.connection.MySQLConnection at 0x1d04168a280>"
      ]
     },
     "execution_count": 5,
     "metadata": {},
     "output_type": "execute_result"
    }
   ],
   "source": [
    "db = conn.connect(host='localhost', user='root', password=\"\")\n",
    "db"
   ]
  },
  {
   "cell_type": "code",
   "execution_count": 6,
   "id": "e8386345",
   "metadata": {},
   "outputs": [],
   "source": [
    "db.close()"
   ]
  },
  {
   "cell_type": "code",
   "execution_count": 23,
   "id": "5c1be6e6",
   "metadata": {},
   "outputs": [],
   "source": [
    "def create_db_conn(host='localhost', user='root', password=\"\", db_name=\"\"):\n",
    "    try:\n",
    "        if db_name != \"\":\n",
    "            db = conn.connect(host=host, user=user, password=password, database=db_name)\n",
    "            return db \n",
    "        else:\n",
    "            db = conn.connect(host=host, user=user, password=password)\n",
    "            return db\n",
    "    except Exception as e:\n",
    "        print(e)"
   ]
  },
  {
   "cell_type": "code",
   "execution_count": 27,
   "id": "b105dc28",
   "metadata": {},
   "outputs": [],
   "source": [
    "def create_db(db_name):\n",
    "    try:\n",
    "        conn = create_db_conn()\n",
    "        cursor = conn.cursor()\n",
    "        sql = \"CREATE DATABASE {}\".format(db_name)\n",
    "        cursor.execute(sql)\n",
    "        cursor.close()\n",
    "        conn.close()\n",
    "    except Exception as e:\n",
    "        print(e)"
   ]
  },
  {
   "cell_type": "code",
   "execution_count": 42,
   "id": "1acfae1e",
   "metadata": {},
   "outputs": [],
   "source": [
    "def create_table(db_name, table_name):\n",
    "    try:\n",
    "        conn = create_db_conn(db_name=db_name)\n",
    "        cursor = conn.cursor()\n",
    "        sql = \"CREATE TABLE {}(id integer primary key auto_increment, name varchar(255), dept varchar(255))\".format(table_name)\n",
    "        cursor.execute(sql)\n",
    "        cursor.close()\n",
    "        conn.close()\n",
    "    except Exception as e:\n",
    "        print(e)"
   ]
  },
  {
   "cell_type": "code",
   "execution_count": 40,
   "id": "9aa7bd90",
   "metadata": {},
   "outputs": [],
   "source": [
    "def insert_data_into_table(db_name, table_name, stu_id, name, dept):\n",
    "    try:\n",
    "        conn = create_db_conn(db_name=db_name)\n",
    "        cursor = conn.cursor()\n",
    "        sql = \"INSERT INTO {}(id, name, dept) VALUES(%s, %s, %s)\".format(table_name)\n",
    "        values = (stu_id, name, dept)\n",
    "        cursor.execute(sql, values)\n",
    "        conn.commit()\n",
    "        cursor.close()\n",
    "        conn.close()\n",
    "    except Exception as e:\n",
    "        print(e)"
   ]
  },
  {
   "cell_type": "code",
   "execution_count": 43,
   "id": "8c3ca612",
   "metadata": {},
   "outputs": [
    {
     "name": "stdout",
     "output_type": "stream",
     "text": [
      "1007 (HY000): Can't create database 'student'; database exists\n"
     ]
    }
   ],
   "source": [
    "create_db(\"student\")\n",
    "create_table(\"student\", \"stu_info\")\n",
    "insert_data_into_table(\"student\", \"stu_info\", \"0\", \"Abu Jafor\", \"CSE\")"
   ]
  },
  {
   "cell_type": "code",
   "execution_count": 46,
   "id": "155dfc64",
   "metadata": {},
   "outputs": [],
   "source": [
    "def fetch_data_from_table(db_name, table_name):\n",
    "    try:\n",
    "        conn = create_db_conn(db_name=db_name)\n",
    "        cursor = conn.cursor()\n",
    "        sql = \"SELECT * FROM {}\".format(table_name)\n",
    "        cursor.execute(sql)\n",
    "        res = cursor.fetchall()\n",
    "        for i in res:\n",
    "            print(i)\n",
    "        cursor.close()\n",
    "        conn.close()\n",
    "    except Exception as e:\n",
    "        print(e)"
   ]
  },
  {
   "cell_type": "code",
   "execution_count": 47,
   "id": "30e90ac5",
   "metadata": {},
   "outputs": [
    {
     "name": "stdout",
     "output_type": "stream",
     "text": [
      "(1, 'Abu Jafor', 'CSE')\n"
     ]
    }
   ],
   "source": [
    "fetch_data_from_table(\"student\", \"stu_info\")"
   ]
  },
  {
   "cell_type": "code",
   "execution_count": 48,
   "id": "3e238983",
   "metadata": {},
   "outputs": [
    {
     "name": "stdout",
     "output_type": "stream",
     "text": [
      "(1, 'Abu Jafor', 'CSE')\n",
      "(2, 'Shanto', 'IT')\n"
     ]
    }
   ],
   "source": [
    "insert_data_into_table(\"student\", \"stu_info\", \"0\", \"Shanto\", \"IT\")\n",
    "fetch_data_from_table(\"student\", \"stu_info\")"
   ]
  },
  {
   "cell_type": "code",
   "execution_count": null,
   "id": "79c384e2",
   "metadata": {},
   "outputs": [],
   "source": []
  }
 ],
 "metadata": {
  "kernelspec": {
   "display_name": "Python 3",
   "language": "python",
   "name": "python3"
  },
  "language_info": {
   "codemirror_mode": {
    "name": "ipython",
    "version": 3
   },
   "file_extension": ".py",
   "mimetype": "text/x-python",
   "name": "python",
   "nbconvert_exporter": "python",
   "pygments_lexer": "ipython3",
   "version": "3.8.8"
  }
 },
 "nbformat": 4,
 "nbformat_minor": 5
}
