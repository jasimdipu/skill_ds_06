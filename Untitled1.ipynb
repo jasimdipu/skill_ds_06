{
 "cells": [
  {
   "cell_type": "code",
   "execution_count": 27,
   "id": "158b8fa6",
   "metadata": {},
   "outputs": [
    {
     "name": "stdout",
     "output_type": "stream",
     "text": [
      "10 12 14 \n",
      "20 24 28 \n",
      "15 18 21 \n"
     ]
    },
    {
     "data": {
      "text/plain": [
       "[[15, 18, 21], [15, 18, 21], [15, 18, 21]]"
      ]
     },
     "execution_count": 27,
     "metadata": {},
     "output_type": "execute_result"
    }
   ],
   "source": [
    "import numpy as np\n",
    "pair=np.zeros(3, 4)\n",
    "a=[2, 4, 3]\n",
    "b=[5, 6, 7]\n",
    "for i in range(3):\n",
    "    for j in range (3):\n",
    "        pair[i][j] = a[i]*b[j] \n",
    "        print(pair[i][j], end=\" \")\n",
    "    print()\n",
    "#         pair[i][j]=a[i]*b[j]\n",
    "pair"
   ]
  },
  {
   "cell_type": "code",
   "execution_count": 3,
   "id": "3dfd2e61",
   "metadata": {},
   "outputs": [
    {
     "data": {
      "text/plain": [
       "[[15, 18, 21], [15, 18, 21], [15, 18, 21]]"
      ]
     },
     "execution_count": 3,
     "metadata": {},
     "output_type": "execute_result"
    }
   ],
   "source": [
    "a=10, b=12"
   ]
  },
  {
   "cell_type": "code",
   "execution_count": 14,
   "id": "73549457",
   "metadata": {},
   "outputs": [],
   "source": [
    "pair[0][0] = a*b, 10"
   ]
  },
  {
   "cell_type": "code",
   "execution_count": 15,
   "id": "cc1f2928",
   "metadata": {},
   "outputs": [
    {
     "data": {
      "text/plain": [
       "(10, 10)"
      ]
     },
     "execution_count": 15,
     "metadata": {},
     "output_type": "execute_result"
    }
   ],
   "source": [
    "pair[0][0]"
   ]
  },
  {
   "cell_type": "code",
   "execution_count": 29,
   "id": "f6f6dd62",
   "metadata": {},
   "outputs": [
    {
     "data": {
      "text/plain": [
       "[[0, 0, 0], [0, 0, 0], [0, 0, 0]]"
      ]
     },
     "execution_count": 29,
     "metadata": {},
     "output_type": "execute_result"
    }
   ],
   "source": [
    "pair=[[0]*3]*3\n",
    "pair"
   ]
  },
  {
   "cell_type": "code",
   "execution_count": 32,
   "id": "3e590b1d",
   "metadata": {},
   "outputs": [
    {
     "data": {
      "text/plain": [
       "array([[0., 0., 0.],\n",
       "       [0., 0., 0.],\n",
       "       [0., 0., 0.]])"
      ]
     },
     "execution_count": 32,
     "metadata": {},
     "output_type": "execute_result"
    }
   ],
   "source": [
    "import numpy as np\n",
    "pair=np.zeros((3, 3))\n",
    "pair"
   ]
  },
  {
   "cell_type": "code",
   "execution_count": 34,
   "id": "0110a8fa",
   "metadata": {},
   "outputs": [
    {
     "name": "stdout",
     "output_type": "stream",
     "text": [
      "10 12 14 \n",
      "20 24 28 \n",
      "15 18 21 \n"
     ]
    },
    {
     "data": {
      "text/plain": [
       "array([[10, 12, 14],\n",
       "       [20, 24, 28],\n",
       "       [15, 18, 21]])"
      ]
     },
     "execution_count": 34,
     "metadata": {},
     "output_type": "execute_result"
    }
   ],
   "source": [
    "import numpy as np\n",
    "pair=np.zeros((3, 3), dtype=int)\n",
    "a=[2, 4, 3]\n",
    "b=[5, 6, 7]\n",
    "for i in range(3):\n",
    "    for j in range (3):\n",
    "        pair[i][j] = a[i]*b[j] \n",
    "        print(pair[i][j], end=\" \")\n",
    "    print()\n",
    "#         pair[i][j]=a[i]*b[j]\n",
    "pair"
   ]
  },
  {
   "cell_type": "code",
   "execution_count": 35,
   "id": "2ef3cdc6",
   "metadata": {},
   "outputs": [
    {
     "data": {
      "text/plain": [
       "10"
      ]
     },
     "execution_count": 35,
     "metadata": {},
     "output_type": "execute_result"
    }
   ],
   "source": [
    "pair[0][0]"
   ]
  },
  {
   "cell_type": "code",
   "execution_count": null,
   "id": "f62a0faf",
   "metadata": {},
   "outputs": [],
   "source": []
  }
 ],
 "metadata": {
  "kernelspec": {
   "display_name": "Python 3 (ipykernel)",
   "language": "python",
   "name": "python3"
  },
  "language_info": {
   "codemirror_mode": {
    "name": "ipython",
    "version": 3
   },
   "file_extension": ".py",
   "mimetype": "text/x-python",
   "name": "python",
   "nbconvert_exporter": "python",
   "pygments_lexer": "ipython3",
   "version": "3.9.7"
  }
 },
 "nbformat": 4,
 "nbformat_minor": 5
}
